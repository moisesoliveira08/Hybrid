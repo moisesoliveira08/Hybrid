{
 "cells": [
  {
   "cell_type": "code",
   "execution_count": 1,
   "metadata": {},
   "outputs": [],
   "source": [
    "import numpy as np\n",
    "import sympy as sp\n",
    "from sympy import Symbol\n",
    "from sympy import solve, Poly, Eq, Function, exp\n",
    "import math\n",
    "import matplotlib.pyplot as plt\n",
    "from numpy.lib.scimath import sqrt as csqrt\n",
    "from scipy.signal import find_peaks\n",
    "from scipy.constants import lambda2nu, nu2lambda, c\n",
    "import os\n",
    "import imp\n",
    "import matplotlib.pyplot as plt\n",
    "import sys\n",
    "\n",
    "#windows path\n",
    "#os.add_dll_directory('C:\\\\Program Files\\\\Lumerical\\\\v202\\\\api\\\\python\\\\') \n",
    "#lumapi = imp.load_source('lumapi','C:\\\\Program Files\\\\Lumerical\\\\v202\\\\api\\\\python\\\\lumapi.py')\n",
    "\n",
    "#linux path\n",
    "sys.path.append(\"/opt/lumerical/v221/api/python\") #Default linux lumapi path\n",
    "import lumapi\n",
    "sys.path.append(os.path.dirname('/home/moises/Downloads/'))"
   ]
  },
  {
   "cell_type": "code",
   "execution_count": 19,
   "metadata": {},
   "outputs": [],
   "source": [
    "fdtd = lumapi.FDTD(filename = 'Hybrid2.fsp')"
   ]
  },
  {
   "cell_type": "markdown",
   "metadata": {},
   "source": [
    "## parameters"
   ]
  },
  {
   "cell_type": "code",
   "execution_count": 6,
   "metadata": {},
   "outputs": [],
   "source": [
    "core = 'GaInAsP'\n",
    "cladding = 'InP'\n",
    "buffer = 'InP'\n",
    "substrate = 'InP'\n",
    "n = 3.2515 ## refractive index of GaInAsP for 1.55 um\n",
    "w = 2e-6\n",
    "thick = 0.3e-6\n",
    "Wmf = 18.6e-6\n",
    "Wms = 9.02e-6\n",
    "Ldevice = 227e-6\n",
    "LS24 = 116e-6\n",
    "LM22 = 111e-6\n",
    "gap = 1.1e-6\n",
    "c = 299792458\n",
    "v = c/n"
   ]
  },
  {
   "cell_type": "code",
   "execution_count": 31,
   "metadata": {},
   "outputs": [],
   "source": [
    "fdtd.selectall()\n",
    "fdtd.delete()\n",
    "fdtd.addobject('linear_taper')\n",
    "fdtd.set({\n",
    "    'name':'2X4',\n",
    "    'x':0,\n",
    "    'y':0,\n",
    "    'z':0,\n",
    "    'thickness':thick,\n",
    "    'angle_side':90,\n",
    "    'width_l':Wms,\n",
    "    'width_r':Wmf,\n",
    "    'len':LS24,\n",
    "    'material':core\n",
    "})\n",
    "\n",
    "xspan = 5e-6\n",
    "\n",
    "fdtd.addrect()\n",
    "fdtd.set({\n",
    "    'name':'rect input up',\n",
    "    'x':-LS24/2 - xspan/2,\n",
    "    'x span':xspan,\n",
    "    'y':Wms/6,\n",
    "    'y span':w,\n",
    "    'z':0,\n",
    "    'z span':thick,\n",
    "    'material':core\n",
    "})\n",
    "\n",
    "fdtd.addrect()\n",
    "fdtd.set({\n",
    "    'name':'rect input down',\n",
    "    'x':-LS24/2 - xspan/2,\n",
    "    'x span':xspan,\n",
    "    'y':-Wms/6,\n",
    "    'y span':w,\n",
    "    'z':0,\n",
    "    'z span':thick,\n",
    "    'material':core\n",
    "})\n",
    "\n",
    "fdtd.addrect()\n"
   ]
  }
 ],
 "metadata": {
  "kernelspec": {
   "display_name": "Python 3.9.12 ('base')",
   "language": "python",
   "name": "python3"
  },
  "language_info": {
   "codemirror_mode": {
    "name": "ipython",
    "version": 3
   },
   "file_extension": ".py",
   "mimetype": "text/x-python",
   "name": "python",
   "nbconvert_exporter": "python",
   "pygments_lexer": "ipython3",
   "version": "3.9.12"
  },
  "orig_nbformat": 4,
  "vscode": {
   "interpreter": {
    "hash": "7613c13fd379a26cc5bdf3781146dc0fc07c604022ae81408481b5d31e7b3002"
   }
  }
 },
 "nbformat": 4,
 "nbformat_minor": 2
}
